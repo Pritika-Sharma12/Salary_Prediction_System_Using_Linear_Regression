{
 "cells": [
  {
   "cell_type": "markdown",
   "id": "3f2c5481",
   "metadata": {},
   "source": [
    "Salary Prediction System"
   ]
  },
  {
   "cell_type": "code",
   "execution_count": 1,
   "id": "ec3839d7",
   "metadata": {
    "scrolled": false
   },
   "outputs": [
    {
     "name": "stderr",
     "output_type": "stream",
     "text": [
      "D:\\conda\\lib\\site-packages\\scipy\\__init__.py:146: UserWarning: A NumPy version >=1.16.5 and <1.23.0 is required for this version of SciPy (detected version 1.26.1\n",
      "  warnings.warn(f\"A NumPy version >={np_minversion} and <{np_maxversion}\"\n"
     ]
    },
    {
     "name": "stdout",
     "output_type": "stream",
     "text": [
      "Welcome to Salary Prediction System\n",
      "Press ENTER key to proceed\n",
      "\n",
      "0 ... Salary_Prediction.csv\n",
      "Select file to create ML model : 0\n",
      "Salary_Prediction.csv is selected\n",
      "Reading csv file\n",
      "Creating Dataset\n",
      "Dataset created\n",
      "Enter test data size (between 0 and 1) : 0.2\n",
      "Model creation in progression\n",
      "Model is created\n",
      "Press ENTER key to predict test data in trained model\n",
      "\n",
      "[[ 9.5]\n",
      " [ 4.1]\n",
      " [ 3.7]\n",
      " [10.3]\n",
      " [ 8.7]\n",
      " [ 2.2]]  ... [116969  57081  57189 122391 109431  39891]  ... [115174.99105708  65407.16994599  61720.6646785  122548.00159205\n",
      " 107801.9805221   47896.26992542]\n",
      "[9.5] ... 116969 ... 115174.99105707779\n",
      "[4.1] ... 57081 ... 65407.169945992064\n",
      "[3.7] ... 57189 ... 61720.66467850424\n",
      "[10.3] ... 122391 ... 122548.00159205345\n",
      "[8.7] ... 109431 ... 107801.98052210212\n",
      "[2.2] ... 39891 ... 47896.26992542487\n",
      "Press ENTER key to see above result in graphical format\n",
      "\n"
     ]
    },
    {
     "data": {
      "image/png": "[encoded data removed]",
      "text/plain": [
       "<Figure size 432x288 with 1 Axes>"
      ]
     },
     "metadata": {
      "needs_background": "light"
     },
     "output_type": "display_data"
    },
    {
     "name": "stdout",
     "output_type": "stream",
     "text": [
      "Our model is 97.58% accurate\n",
      "Now you can predict salary of an employee using our model\n",
      "\n",
      "Enter experience in years of the candidates, seperated by comma : \n",
      "5,8.2\n"
     ]
    },
    {
     "data": {
      "image/png": "[encoded data removed]",
      "text/plain": [
       "<Figure size 432x288 with 1 Axes>"
      ]
     },
     "metadata": {
      "needs_background": "light"
     },
     "output_type": "display_data"
    },
    {
     "name": "stdout",
     "output_type": "stream",
     "text": [
      "   Experience       Salaries\n",
      "0         5.0   73701.806798\n",
      "1         8.2  103193.848938\n",
      "\n",
      "Press ENTER key to end\n",
      "\n"
     ]
    }
   ],
   "source": [
    "import os \n",
    "import numpy as np\n",
    "import pandas as pd\n",
    "import matplotlib.pyplot as plt\n",
    "from sklearn.model_selection import train_test_split\n",
    "from sklearn.linear_model import LinearRegression\n",
    "from sklearn.metrics import r2_score #Importing the r2_score function from the sklearn.metrics module for finding r^2\n",
    "def welcome():\n",
    "    print(\"Welcome to Salary Prediction System\")\n",
    "    print(\"Press ENTER key to proceed\")\n",
    "    input()\n",
    "def checkcsv():\n",
    "    csv_files=[]\n",
    "    cur_dir=os.getcwd() #(getcwd--get current working directory)\n",
    "    content_list=os.listdir(cur_dir)\n",
    "    for x in content_list:\n",
    "        if x.split('.')[-1]=='csv': \n",
    "            csv_files.append(x)\n",
    "    if len(csv_files)==0:\n",
    "        return 'No csv file in the directory'\n",
    "    else:\n",
    "        return csv_files\n",
    "def display_and_select_csv(csv_files):\n",
    "    i=0\n",
    "    for file_name in csv_files:\n",
    "        print(i,'...',file_name)\n",
    "        i+=1\n",
    "    return csv_files[int(input(\"Select file to create ML model : \"))] #Csv file is selected by the User\n",
    "def graph(X_train,Y_train,regressionObject,X_test,Y_test,Y_pred): #Function to plot the training and test data, along with the regression line\n",
    "    plt.scatter(X_train,Y_train,color='red',label='training data') #Plotting training data points\n",
    "    plt.plot(X_train,regressionObject.predict(X_train),color='blue',label='Best Fit') #Plotting the Best Fit line\n",
    "    plt.scatter(X_test,Y_test,color='green',label='test data') #Plotting test data points\n",
    "    plt.scatter(X_test,Y_pred,color='black',label='Pred test data') #Plotting test and predicted data points\n",
    "    plt.title(\"Salary vs Experience\") #Adding main title to the graph\n",
    "    plt.xlabel(\"Years of Experience\") #Adding label to the x-axis\n",
    "    plt.ylabel(\"Salary\") #Adding label to the y-axis\n",
    "    plt.legend() #Describes the elements of the graph\n",
    "    plt.show() #Display the graph\n",
    "    \n",
    "def main():\n",
    "    welcome()\n",
    "    try:\n",
    "        csv_file=checkcsv()\n",
    "        if csv_file== \"No csv file in the directory\":\n",
    "            raise FileNotFoundError(\"No csv file in the directory\")\n",
    "        csv_file=display_and_select_csv(csv_file)\n",
    "        print(csv_file,'is selected')\n",
    "        print('Reading csv file')\n",
    "        print('Creating Dataset')\n",
    "        dataset=pd.read_csv(csv_file)\n",
    "        print('Dataset created')\n",
    "        X=dataset.iloc[:,:-1].values\n",
    "        Y=dataset.iloc[:,-1].values\n",
    "        s=float(input('Enter test data size (between 0 and 1) : ') )\n",
    "        X_train,X_test,Y_train,Y_test=train_test_split(X,Y,test_size=s)\n",
    "        print(\"Model creation in progression\")\n",
    "        regressionObject=LinearRegression()\n",
    "        regressionObject.fit(X_train,Y_train)\n",
    "        print(\"Model is created\")\n",
    "        print(\"Press ENTER key to predict test data in trained model\")\n",
    "        input()\n",
    "        \n",
    "        Y_pred=regressionObject.predict(X_test)\n",
    "        i=0 #\n",
    "        print(X_test,' ...',Y_test,' ...',Y_pred) #Printing test data, actual salaries, and predicted salaries\n",
    "        while i<len(X_test): #Loop for picking individual test data\n",
    "            print(X_test[i],'...',Y_test[i],'...',Y_pred[i]) #Printing individual test data, actual salaries, and predicted salaries\n",
    "            i+=1 #Moves to the next test data point\n",
    "        print(\"Press ENTER key to see above result in graphical format\") #Press enter to view result\n",
    "        input() #Press enter button for going to the next step\n",
    "        graph(X_train,Y_train,regressionObject,X_test,Y_test,Y_pred) #Calling the function to plot the training and test data, along with the regression line\n",
    "        r2=r2_score(Y_test,Y_pred) #Calculating the R-squared score\n",
    "        print(\"Our model is %2.2f%% accurate\" %(r2*100)) #Prints the accuracy of the model\n",
    "        \n",
    "        print(\"Now you can predict salary of an employee using our model\") #Model is ready for salary prediction based on experience\n",
    "        print(\"\\nEnter experience in years of the candidates, seperated by comma : \") #Enter year for getting the salary based on experience\n",
    "        \n",
    "        exp=[float(e) for e in input().split(',')] #Values of experience entered with commas are seperated and stored in a list named exp \n",
    "        ex=[] #Empty list\n",
    "        for x in exp: #Picking values individually from exp\n",
    "            ex.append([x]) #Appending each experience value to the 'ex' list as a sublist\n",
    "        experience = np.array(ex)#Creating a NumPy array 'experience' from the list 'ex'\n",
    "        salaries=regressionObject.predict(experience) #Prdict salary based on experience\n",
    "        plt.scatter(experience,salaries,color='blue') #Plots the points on the graph \n",
    "        plt.xlabel('Year of Experience') #x-axis is named as \"Year of Experience\"\n",
    "        plt.ylabel('Salaries') #y-axis is named as \"Salaries\"\n",
    "        plt.show() #plots and shows the graph of \"Year of experience\" and \"Salaries\"\n",
    "        d=pd.DataFrame({'Experience':exp,'Salaries':salaries}) #Creating a DataFrame with predicted salaries\n",
    "        print(d) #Prints the salaries generated by the ML model based on expeirnce\n",
    "        print(\"\\nPress ENTER key to end\")\n",
    "    \n",
    "    except FileNotFoundError:\n",
    "        print(\"No csv file in the directory\")\n",
    "        print(\"Press ENTER key to exit\") # Ends the program after the User press enter\n",
    "        input() # Enter is inputed\n",
    "        exit() # Program ends\n",
    "        \n",
    "if __name__==\"__main__\":\n",
    "    main()\n",
    "    input()"
   ]
  },
  {
   "cell_type": "code",
   "execution_count": null,
   "id": "25c0d243",
   "metadata": {},
   "outputs": [],
   "source": []
  }
 ],
 "metadata": {
  "kernelspec": {
   "display_name": "Python 3 (ipykernel)",
   "language": "python",
   "name": "python3"
  },
  "language_info": {
   "codemirror_mode": {
    "name": "ipython",
    "version": 3
   },
   "file_extension": ".py",
   "mimetype": "text/x-python",
   "name": "python",
   "nbconvert_exporter": "python",
   "pygments_lexer": "ipython3",
   "version": "3.9.12"
  }
 },
 "nbformat": 4,
 "nbformat_minor": 5
}
